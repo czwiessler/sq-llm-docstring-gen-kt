{
 "cells": [
  {
   "cell_type": "code",
   "id": "initial_id",
   "metadata": {
    "collapsed": true,
    "ExecuteTime": {
     "end_time": "2024-12-10T18:21:36.823479Z",
     "start_time": "2024-12-10T18:21:36.808501Z"
    }
   },
   "source": [
    "import pandas as pd\n",
    "from filter_sample_scripts import filter_files_based_on_conditions"
   ],
   "outputs": [],
   "execution_count": 17
  },
  {
   "metadata": {
    "ExecuteTime": {
     "end_time": "2024-12-10T11:39:49.750796Z",
     "start_time": "2024-12-10T11:39:45.702571Z"
    }
   },
   "cell_type": "code",
   "source": "excel_df = pd. read_excel(\"script_metrics.xlsx\")",
   "id": "4e3eabd8f8783168",
   "outputs": [],
   "execution_count": 29
  },
  {
   "metadata": {
    "ExecuteTime": {
     "end_time": "2024-12-10T11:39:49.774872Z",
     "start_time": "2024-12-10T11:39:49.763133Z"
    }
   },
   "cell_type": "code",
   "source": "excel_df.head()",
   "id": "8df166ea6baafba7",
   "outputs": [
    {
     "data": {
      "text/plain": [
       "                                       file  lines  classes  functions  \\\n",
       "0         ./downloaded_files/2knal/forms.py     29        2          0   \n",
       "1         ./downloaded_files/2knal/index.py    443        0         16   \n",
       "2       ./downloaded_files/2knal/mymongo.py     19        0          0   \n",
       "3  ./downloaded_files/2knal/final_module.py    252        0          1   \n",
       "4    ./downloaded_files/a-slide/__init__.py      9        0          0   \n",
       "\n",
       "   non_class_function_lines  nested_lines  non_nested_lines  \\\n",
       "0                         8            20                 9   \n",
       "1                       176           295               148   \n",
       "2                        19             2                17   \n",
       "3                       249           170                82   \n",
       "4                         9             0                 9   \n",
       "\n",
       "   import_statements  loops  if_statements  variables  files_read  \\\n",
       "0                  3      0              0         13           0   \n",
       "1                 15     13             44         83           0   \n",
       "2                  2      0              0          7           1   \n",
       "3                 14      8             14         60           5   \n",
       "4                  0      0              0          7           0   \n",
       "\n",
       "   functions_with_docstring  single_line_comments  average_line_length  \\\n",
       "0                         0                     1                 50.3   \n",
       "1                         0                    31                 38.3   \n",
       "2                         0                     1                 17.5   \n",
       "3                         0                    21                 34.9   \n",
       "4                         0                     1                 42.4   \n",
       "\n",
       "   maximum_line_length  average_function_length  max_function_length  \n",
       "0                   99                      0.0                    0  \n",
       "1                  339                     21.8                  179  \n",
       "2                   41                      0.0                    0  \n",
       "3                  177                     40.6                  148  \n",
       "4                  128                      0.0                    0  "
      ],
      "text/html": [
       "<div>\n",
       "<style scoped>\n",
       "    .dataframe tbody tr th:only-of-type {\n",
       "        vertical-align: middle;\n",
       "    }\n",
       "\n",
       "    .dataframe tbody tr th {\n",
       "        vertical-align: top;\n",
       "    }\n",
       "\n",
       "    .dataframe thead th {\n",
       "        text-align: right;\n",
       "    }\n",
       "</style>\n",
       "<table border=\"1\" class=\"dataframe\">\n",
       "  <thead>\n",
       "    <tr style=\"text-align: right;\">\n",
       "      <th></th>\n",
       "      <th>file</th>\n",
       "      <th>lines</th>\n",
       "      <th>classes</th>\n",
       "      <th>functions</th>\n",
       "      <th>non_class_function_lines</th>\n",
       "      <th>nested_lines</th>\n",
       "      <th>non_nested_lines</th>\n",
       "      <th>import_statements</th>\n",
       "      <th>loops</th>\n",
       "      <th>if_statements</th>\n",
       "      <th>variables</th>\n",
       "      <th>files_read</th>\n",
       "      <th>functions_with_docstring</th>\n",
       "      <th>single_line_comments</th>\n",
       "      <th>average_line_length</th>\n",
       "      <th>maximum_line_length</th>\n",
       "      <th>average_function_length</th>\n",
       "      <th>max_function_length</th>\n",
       "    </tr>\n",
       "  </thead>\n",
       "  <tbody>\n",
       "    <tr>\n",
       "      <th>0</th>\n",
       "      <td>./downloaded_files/2knal/forms.py</td>\n",
       "      <td>29</td>\n",
       "      <td>2</td>\n",
       "      <td>0</td>\n",
       "      <td>8</td>\n",
       "      <td>20</td>\n",
       "      <td>9</td>\n",
       "      <td>3</td>\n",
       "      <td>0</td>\n",
       "      <td>0</td>\n",
       "      <td>13</td>\n",
       "      <td>0</td>\n",
       "      <td>0</td>\n",
       "      <td>1</td>\n",
       "      <td>50.3</td>\n",
       "      <td>99</td>\n",
       "      <td>0.0</td>\n",
       "      <td>0</td>\n",
       "    </tr>\n",
       "    <tr>\n",
       "      <th>1</th>\n",
       "      <td>./downloaded_files/2knal/index.py</td>\n",
       "      <td>443</td>\n",
       "      <td>0</td>\n",
       "      <td>16</td>\n",
       "      <td>176</td>\n",
       "      <td>295</td>\n",
       "      <td>148</td>\n",
       "      <td>15</td>\n",
       "      <td>13</td>\n",
       "      <td>44</td>\n",
       "      <td>83</td>\n",
       "      <td>0</td>\n",
       "      <td>0</td>\n",
       "      <td>31</td>\n",
       "      <td>38.3</td>\n",
       "      <td>339</td>\n",
       "      <td>21.8</td>\n",
       "      <td>179</td>\n",
       "    </tr>\n",
       "    <tr>\n",
       "      <th>2</th>\n",
       "      <td>./downloaded_files/2knal/mymongo.py</td>\n",
       "      <td>19</td>\n",
       "      <td>0</td>\n",
       "      <td>0</td>\n",
       "      <td>19</td>\n",
       "      <td>2</td>\n",
       "      <td>17</td>\n",
       "      <td>2</td>\n",
       "      <td>0</td>\n",
       "      <td>0</td>\n",
       "      <td>7</td>\n",
       "      <td>1</td>\n",
       "      <td>0</td>\n",
       "      <td>1</td>\n",
       "      <td>17.5</td>\n",
       "      <td>41</td>\n",
       "      <td>0.0</td>\n",
       "      <td>0</td>\n",
       "    </tr>\n",
       "    <tr>\n",
       "      <th>3</th>\n",
       "      <td>./downloaded_files/2knal/final_module.py</td>\n",
       "      <td>252</td>\n",
       "      <td>0</td>\n",
       "      <td>1</td>\n",
       "      <td>249</td>\n",
       "      <td>170</td>\n",
       "      <td>82</td>\n",
       "      <td>14</td>\n",
       "      <td>8</td>\n",
       "      <td>14</td>\n",
       "      <td>60</td>\n",
       "      <td>5</td>\n",
       "      <td>0</td>\n",
       "      <td>21</td>\n",
       "      <td>34.9</td>\n",
       "      <td>177</td>\n",
       "      <td>40.6</td>\n",
       "      <td>148</td>\n",
       "    </tr>\n",
       "    <tr>\n",
       "      <th>4</th>\n",
       "      <td>./downloaded_files/a-slide/__init__.py</td>\n",
       "      <td>9</td>\n",
       "      <td>0</td>\n",
       "      <td>0</td>\n",
       "      <td>9</td>\n",
       "      <td>0</td>\n",
       "      <td>9</td>\n",
       "      <td>0</td>\n",
       "      <td>0</td>\n",
       "      <td>0</td>\n",
       "      <td>7</td>\n",
       "      <td>0</td>\n",
       "      <td>0</td>\n",
       "      <td>1</td>\n",
       "      <td>42.4</td>\n",
       "      <td>128</td>\n",
       "      <td>0.0</td>\n",
       "      <td>0</td>\n",
       "    </tr>\n",
       "  </tbody>\n",
       "</table>\n",
       "</div>"
      ]
     },
     "execution_count": 30,
     "metadata": {},
     "output_type": "execute_result"
    }
   ],
   "execution_count": 30
  },
  {
   "metadata": {
    "ExecuteTime": {
     "end_time": "2024-12-10T11:39:49.828499Z",
     "start_time": "2024-12-10T11:39:49.821737Z"
    }
   },
   "cell_type": "code",
   "source": "enumeration = enumerate(excel_df.iterrows(), start = 1)",
   "id": "b276d6f3e62f2fad",
   "outputs": [],
   "execution_count": 31
  },
  {
   "metadata": {
    "ExecuteTime": {
     "end_time": "2024-12-10T14:31:56.492897Z",
     "start_time": "2024-12-10T14:31:50.344443Z"
    }
   },
   "cell_type": "code",
   "source": "df = filter_files_based_on_conditions(\"script_metrics.xlsx\", {\"lines\": lambda x: x < 100}, \"script_metrics_under_hundred_lines.xlsx\")",
   "id": "58ec483e4858938c",
   "outputs": [
    {
     "name": "stdout",
     "output_type": "stream",
     "text": [
      " > Filtered 12173 out of 25563 files and saved to script_metrics_under_hundred_lines.xlsx\n"
     ]
    }
   ],
   "execution_count": 16
  },
  {
   "metadata": {
    "ExecuteTime": {
     "end_time": "2024-12-10T18:21:59.339364Z",
     "start_time": "2024-12-10T18:21:59.312004Z"
    }
   },
   "cell_type": "code",
   "source": "df.head()",
   "id": "55ed2dca7dc2584",
   "outputs": [
    {
     "data": {
      "text/plain": [
       "                                           file  lines\n",
       "0             ./downloaded_files/2knal/forms.py     29\n",
       "2           ./downloaded_files/2knal/mymongo.py     19\n",
       "4        ./downloaded_files/a-slide/__init__.py      9\n",
       "5           ./downloaded_files/a-slide/setup.py     44\n",
       "14  ./downloaded_files/aashutoshrathi/freeze.py     23"
      ],
      "text/html": [
       "<div>\n",
       "<style scoped>\n",
       "    .dataframe tbody tr th:only-of-type {\n",
       "        vertical-align: middle;\n",
       "    }\n",
       "\n",
       "    .dataframe tbody tr th {\n",
       "        vertical-align: top;\n",
       "    }\n",
       "\n",
       "    .dataframe thead th {\n",
       "        text-align: right;\n",
       "    }\n",
       "</style>\n",
       "<table border=\"1\" class=\"dataframe\">\n",
       "  <thead>\n",
       "    <tr style=\"text-align: right;\">\n",
       "      <th></th>\n",
       "      <th>file</th>\n",
       "      <th>lines</th>\n",
       "    </tr>\n",
       "  </thead>\n",
       "  <tbody>\n",
       "    <tr>\n",
       "      <th>0</th>\n",
       "      <td>./downloaded_files/2knal/forms.py</td>\n",
       "      <td>29</td>\n",
       "    </tr>\n",
       "    <tr>\n",
       "      <th>2</th>\n",
       "      <td>./downloaded_files/2knal/mymongo.py</td>\n",
       "      <td>19</td>\n",
       "    </tr>\n",
       "    <tr>\n",
       "      <th>4</th>\n",
       "      <td>./downloaded_files/a-slide/__init__.py</td>\n",
       "      <td>9</td>\n",
       "    </tr>\n",
       "    <tr>\n",
       "      <th>5</th>\n",
       "      <td>./downloaded_files/a-slide/setup.py</td>\n",
       "      <td>44</td>\n",
       "    </tr>\n",
       "    <tr>\n",
       "      <th>14</th>\n",
       "      <td>./downloaded_files/aashutoshrathi/freeze.py</td>\n",
       "      <td>23</td>\n",
       "    </tr>\n",
       "  </tbody>\n",
       "</table>\n",
       "</div>"
      ]
     },
     "execution_count": 18,
     "metadata": {},
     "output_type": "execute_result"
    }
   ],
   "execution_count": 18
  },
  {
   "metadata": {},
   "cell_type": "code",
   "outputs": [],
   "execution_count": null,
   "source": "\n",
   "id": "f129a4de25c30a37"
  }
 ],
 "metadata": {
  "kernelspec": {
   "display_name": "Python 3",
   "language": "python",
   "name": "python3"
  },
  "language_info": {
   "codemirror_mode": {
    "name": "ipython",
    "version": 2
   },
   "file_extension": ".py",
   "mimetype": "text/x-python",
   "name": "python",
   "nbconvert_exporter": "python",
   "pygments_lexer": "ipython2",
   "version": "2.7.6"
  }
 },
 "nbformat": 4,
 "nbformat_minor": 5
}
